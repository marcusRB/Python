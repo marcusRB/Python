{
 "cells": [
  {
   "cell_type": "markdown",
   "metadata": {},
   "source": [
    "Programación para *Data Science*\n",
    "============================\n",
    "\n",
    "Unidad 2: Breve introducción a la programación en Python\n",
    "-----------------------------------------------------\n",
    "\n",
    "En este Notebook encontraréis dos conjuntos de ejercicios: un primer conjunto de ejercicios para practicar y que no puntuan, pero que recomendamos intentar resolver y un segundo conjunto que evaluaremos como PEC. Además, encontraréis un ejercicio opcional que aunque no puntua directamente para la PEC, sí que nos sirve para subir la nota al final de la asignatura."
   ]
  },
  {
   "cell_type": "markdown",
   "metadata": {},
   "source": [
    "## Ejercicios para practicar\n",
    "\n",
    "**Los siguientes 3 ejercicios no puntuan para la PEC**, pero os recomendamos que los intentéis resolver antes de pasar a los ejercicios propios de la PEC. También podéis encontrar las soluciones a estos ejercicios al final del Notebook. "
   ]
  },
  {
   "cell_type": "markdown",
   "metadata": {},
   "source": [
    "### Ejercicio 1 \n",
    "\n",
    "Escribid una expresión en Python que muestre la siguiente salida por pantalla:"
   ]
  },
  {
   "cell_type": "raw",
   "metadata": {},
   "source": [
    "Hello\n",
    "\n",
    "    Python"
   ]
  },
  {
   "cell_type": "markdown",
   "metadata": {},
   "source": [
    "(fijaros que hay un salto de línea entre las dos palabras y que la palabra \"Python\" está tabulada hacía la derecha)"
   ]
  },
  {
   "cell_type": "code",
   "execution_count": 1,
   "metadata": {},
   "outputs": [
    {
     "name": "stdout",
     "output_type": "stream",
     "text": [
      "Hello\n",
      "\n",
      "\tPython\n"
     ]
    }
   ],
   "source": [
    "# Respuesta Ejercicio 1\n",
    "str = \"Hello\\n\\n\\tPython\"\n",
    "print(str)"
   ]
  },
  {
   "cell_type": "code",
   "execution_count": 2,
   "metadata": {},
   "outputs": [
    {
     "name": "stdout",
     "output_type": "stream",
     "text": [
      "Hello\n",
      "\n",
      "\tPython\n"
     ]
    }
   ],
   "source": [
    "# Otra alternativa sería aplicando la sangría manualmente indicando una triple comillas \"\"\" \"\"\"\n",
    "print(\"\"\"Hello\n",
    "\n",
    "\\tPython\"\"\")"
   ]
  },
  {
   "cell_type": "code",
   "execution_count": 3,
   "metadata": {},
   "outputs": [
    {
     "name": "stdout",
     "output_type": "stream",
     "text": [
      "Hello\n",
      "\n",
      "    Python\n"
     ]
    }
   ],
   "source": [
    "# Otra alternativa sería la siguiente dejando una sangria solamenta en la segunda linea\n",
    "print(\"\"\"Hello\n",
    "\n",
    "    Python\"\"\")"
   ]
  },
  {
   "cell_type": "markdown",
   "metadata": {},
   "source": [
    "### Ejercicio 2\n",
    "\n",
    "Escribid un programa que defina una lista, los valores de la cual sean los nombres de los días de la semana. Haced que muestre el primero y el penúltimo día de la semana."
   ]
  },
  {
   "cell_type": "code",
   "execution_count": 4,
   "metadata": {},
   "outputs": [],
   "source": [
    "# Respuesta\n",
    "weekday = ['Lunes', 'Martes', 'Miércoles', 'Jueves', 'Viernes', 'Sábado', 'Domingo']"
   ]
  },
  {
   "cell_type": "code",
   "execution_count": 5,
   "metadata": {},
   "outputs": [
    {
     "name": "stdout",
     "output_type": "stream",
     "text": [
      "Lunes\n"
     ]
    }
   ],
   "source": [
    "# muestra el primer día de la semana\n",
    "print(weekday[0])"
   ]
  },
  {
   "cell_type": "code",
   "execution_count": 6,
   "metadata": {},
   "outputs": [
    {
     "name": "stdout",
     "output_type": "stream",
     "text": [
      "Sábado\n"
     ]
    }
   ],
   "source": [
    "# muestra el penúltimo día de la semana\n",
    "print(weekday[-2])"
   ]
  },
  {
   "cell_type": "markdown",
   "metadata": {},
   "source": [
    "### Ejercicio 3\n",
    "\n",
    "Python dispone de un _idiom_ muy útil conocido como _list comprehensions_. Buscad documentación sobre este _idiom_ y proporcionad una expresión que devuelva una lista de los cuadrados de los 10 primeros números naturales."
   ]
  },
  {
   "cell_type": "code",
   "execution_count": 96,
   "metadata": {},
   "outputs": [
    {
     "name": "stdout",
     "output_type": "stream",
     "text": [
      "[1, 2, 3, 4, 5, 6, 7, 8, 9, 10]\n"
     ]
    }
   ],
   "source": [
    "# Respuesta\n",
    "item = list(range(1,11))\n",
    "print(item)"
   ]
  },
  {
   "cell_type": "code",
   "execution_count": 97,
   "metadata": {},
   "outputs": [
    {
     "name": "stdout",
     "output_type": "stream",
     "text": [
      "[1, 4, 9, 16, 25, 36, 49, 64, 81, 100]\n"
     ]
    }
   ],
   "source": [
    "# calculamos los cuadrados\n",
    "print([n**2 for n in item])"
   ]
  },
  {
   "cell_type": "markdown",
   "metadata": {},
   "source": [
    "---\n",
    "\n",
    "## Ejercicios y preguntas teóricas para la PEC\n",
    "\n",
    "A continuación encontraréis los **ejercicios y preguntas teóricas que debéis completar en esta PEC** y que forman parte de la evaluación de esta unidad.\n",
    "\n",
    "Podéus encontrar en la documentación oficial de *string* funciones que os pueden ser de ayuda para completar los ejercicios:\n",
    "<https://docs.python.org/2/library/string.html>."
   ]
  },
  {
   "cell_type": "markdown",
   "metadata": {},
   "source": [
    "### Pregunta 1\n",
    "\n",
    "¿Cuál es el valor final de a, b y c (atención a los tipos de número decimal y entero)? **(1 punt)**\n",
    "\n",
    "a = 5 * 11\n",
    "\n",
    "b = a / 2.\n",
    "\n",
    "c, a = b * 2, b + 1"
   ]
  },
  {
   "cell_type": "markdown",
   "metadata": {},
   "source": [
    "**Respuesta**"
   ]
  },
  {
   "cell_type": "markdown",
   "metadata": {},
   "source": [
    "Escribid vuestra respuesta aquí."
   ]
  },
  {
   "cell_type": "code",
   "execution_count": 12,
   "metadata": {},
   "outputs": [
    {
     "name": "stdout",
     "output_type": "stream",
     "text": [
      "55\n"
     ]
    }
   ],
   "source": [
    "a = 5 * 11\n",
    "print(a)"
   ]
  },
  {
   "cell_type": "code",
   "execution_count": 13,
   "metadata": {},
   "outputs": [
    {
     "name": "stdout",
     "output_type": "stream",
     "text": [
      "27.5\n"
     ]
    }
   ],
   "source": [
    "b = a/2.\n",
    "print(b)"
   ]
  },
  {
   "cell_type": "code",
   "execution_count": 14,
   "metadata": {},
   "outputs": [
    {
     "name": "stdout",
     "output_type": "stream",
     "text": [
      "55.0 28.5\n"
     ]
    }
   ],
   "source": [
    "c,a = b*2,b+1\n",
    "print(c,a)"
   ]
  },
  {
   "cell_type": "markdown",
   "metadata": {},
   "source": [
    "### Pregunta 2\n",
    "\n",
    "Exlicad brevemente que es la _Python Standard Library_ y mencionad tres ejemplos de paquetes incluidos en esta librería, añadiendo una breve explicación de cada uno de ellos. **(1 punt)**\n",
    "\n",
    "**Respuesta:**"
   ]
  },
  {
   "cell_type": "markdown",
   "metadata": {},
   "source": [
    "Según la fuente original en [Python.org](https://docs.python.org/3/library/), la **The Python Standard Library** es la que viene distribuida en Python, a diferencia de la **The Python Language Reference** que describre la sintaxis exacta y semántica del lenguaje Python. También incluye componentes opcionales incluidas en las distribuciones de Python. \n",
    "\n",
    "La biblioteca estándar es muy extensa, contiene:\n",
    "- módulos incorporados para funcionalidades del sistema\n",
    "- módulos o soluciones estandarizadas para mejorar aspectos durante la fase de programación diaría.\n",
    "\n",
    "Tenemos diferentes paquetes, entre ellos:\n",
    "1. Built-in # exactamente lo que reunen funciones: constantes, tipos, excepciones, data type e módulos numéricos\n",
    "2. File and Directory # referente a como poder acceder a archivos, lectura y escrictura\n",
    "3. Internet Data Handling # referente a la gestión de los formatos más comunes utilizados en internet."
   ]
  },
  {
   "cell_type": "markdown",
   "metadata": {},
   "source": [
    "### Ejercicio 1\n",
    "\n",
    "Proporcionad una expresión que asigne el valor `5` a la variable `a_number`, el valor `42.42` a la variable `another_number` i el valor \"`datascience`\" a la variable `a_string`. Debéis proporcionar una única expresión que realice las tres asignaciones. **(1 punt)**"
   ]
  },
  {
   "cell_type": "code",
   "execution_count": 15,
   "metadata": {},
   "outputs": [
    {
     "name": "stdout",
     "output_type": "stream",
     "text": [
      "(5, 42.42, 'datascience')\n"
     ]
    }
   ],
   "source": [
    "# Respuesta\n",
    "# Podemos asignar cada una de las 3 variables con diferentes tipos (int, float y string) a una tupla\n",
    "a_number = 5\n",
    "another_number = 42.42\n",
    "a_string = \"datascience\"\n",
    "my_tuple = a_number, another_number, a_string\n",
    "print(my_tuple)"
   ]
  },
  {
   "cell_type": "code",
   "execution_count": 16,
   "metadata": {},
   "outputs": [
    {
     "data": {
      "text/plain": [
       "int"
      ]
     },
     "execution_count": 16,
     "metadata": {},
     "output_type": "execute_result"
    }
   ],
   "source": [
    "# También podemos buscar una alternativa indicando el tipo de variables y realizar un check previo\n",
    "# verificamos la primera variable\n",
    "type(a_number)"
   ]
  },
  {
   "cell_type": "code",
   "execution_count": 17,
   "metadata": {},
   "outputs": [
    {
     "data": {
      "text/plain": [
       "float"
      ]
     },
     "execution_count": 17,
     "metadata": {},
     "output_type": "execute_result"
    }
   ],
   "source": [
    "# verificamos la segunda variable\n",
    "type(another_number)"
   ]
  },
  {
   "cell_type": "code",
   "execution_count": 18,
   "metadata": {},
   "outputs": [
    {
     "data": {
      "text/plain": [
       "str"
      ]
     },
     "execution_count": 18,
     "metadata": {},
     "output_type": "execute_result"
    }
   ],
   "source": [
    "# verificamos la tercera variable\n",
    "type(a_string)"
   ]
  },
  {
   "cell_type": "code",
   "execution_count": 19,
   "metadata": {},
   "outputs": [
    {
     "name": "stdout",
     "output_type": "stream",
     "text": [
      "<class 'int'>\n"
     ]
    }
   ],
   "source": [
    "# otra manera de realizar las operaciones anteriores\n",
    "print(type(my_tuple[0]))"
   ]
  },
  {
   "cell_type": "code",
   "execution_count": 20,
   "metadata": {},
   "outputs": [
    {
     "name": "stdout",
     "output_type": "stream",
     "text": [
      "datascience\n"
     ]
    }
   ],
   "source": [
    "# solo como ejemplo como podemos acceder a los diferentes elementos de nuestra tupla\n",
    "print(my_tuple[2])"
   ]
  },
  {
   "cell_type": "code",
   "execution_count": 24,
   "metadata": {},
   "outputs": [],
   "source": [
    "# Otra respuesta sería con la creación de una función indicando 3 argumentos:\n",
    "def expr(a,b,c):\n",
    "    if a == 5:\n",
    "        if b == 42.42:\n",
    "            if c == \"datascience\":\n",
    "                print(a_number, another_number, a_string)"
   ]
  },
  {
   "cell_type": "code",
   "execution_count": 25,
   "metadata": {},
   "outputs": [
    {
     "name": "stdout",
     "output_type": "stream",
     "text": [
      "5 42.42 datascience\n"
     ]
    }
   ],
   "source": [
    "# llamamos la función expr y le enviamos los valores\n",
    "expr(5,42.42,\"datascience\")"
   ]
  },
  {
   "cell_type": "code",
   "execution_count": 26,
   "metadata": {},
   "outputs": [],
   "source": [
    "expr(5,3,\"nada\")"
   ]
  },
  {
   "cell_type": "markdown",
   "metadata": {},
   "source": [
    "### Ejercicio 2\n",
    "\n",
    "¿Qué expresión en Python necesitamos para conseguir el _string_ \"onPythonPythonPythonPyPy\" utilizando sólo la palabra \"Python\"? **(1 punt)**"
   ]
  },
  {
   "cell_type": "code",
   "execution_count": 27,
   "metadata": {
    "attributes": {
     "classes": [
      "sourceCode"
     ],
     "id": ""
    }
   },
   "outputs": [
    {
     "name": "stdout",
     "output_type": "stream",
     "text": [
      "onPythonPythonPythonPyPy\n"
     ]
    }
   ],
   "source": [
    "# Respuesta 1\n",
    "lang = \"Python\"\n",
    "print(lang[-2:]+lang*3+lang[:2]*2)"
   ]
  },
  {
   "cell_type": "code",
   "execution_count": 28,
   "metadata": {},
   "outputs": [],
   "source": [
    "# Respuesta 2\n",
    "# En este caso puedo crear una función y devolver el resultado\n",
    "def string(lang):\n",
    "    exp = lang[-2:] + lang*3 + lang[:2]*2\n",
    "    return exp"
   ]
  },
  {
   "cell_type": "code",
   "execution_count": 29,
   "metadata": {},
   "outputs": [
    {
     "name": "stdout",
     "output_type": "stream",
     "text": [
      "onPythonPythonPythonPyPy\n"
     ]
    }
   ],
   "source": [
    "x = \"Python\"\n",
    "print(string(x))"
   ]
  },
  {
   "cell_type": "markdown",
   "metadata": {},
   "source": [
    "### Ejercicio 3\n",
    "\n",
    "Escribid un programa que asigne dos valores enteros cualquiera (escoged vosotros un número entero aleatorio) a dos variables con nombres `a` y `b`. Utilizad las variables definidas anteriormente para evaluar la siguiente expresión matemática:\n",
    "\n",
    "( a<sup>2</sup> + b<sup>2</sup> ) <sup>2</sup>\n",
    "\n",
    "**(1 punt)**"
   ]
  },
  {
   "cell_type": "code",
   "execution_count": 30,
   "metadata": {},
   "outputs": [
    {
     "name": "stdout",
     "output_type": "stream",
     "text": [
      "1156\n"
     ]
    }
   ],
   "source": [
    "# Respuesta 1\n",
    "# Podemos realizar la operación manualmente asignando primero las variables a y b y realizando el cuadrado de los mismos\n",
    "a = 5\n",
    "b = 3\n",
    "x = (a**2 + b**2)**2\n",
    "print(x)"
   ]
  },
  {
   "cell_type": "code",
   "execution_count": 31,
   "metadata": {
    "attributes": {
     "classes": [
      "sourceCode"
     ],
     "id": ""
    }
   },
   "outputs": [],
   "source": [
    "# Respuesta 2\n",
    "# La alternativa sería un poco más elegante que la anterior\n",
    "# Para ello creo una función que llamaremos cuadrados() y le asigno dos argumentos a,b para luego aplicar los cuadrados\n",
    "def cuadrados(a,b):\n",
    "    return(a ** 2 + b ** 2) ** 2 "
   ]
  },
  {
   "cell_type": "code",
   "execution_count": 32,
   "metadata": {},
   "outputs": [
    {
     "data": {
      "text/plain": [
       "1156"
      ]
     },
     "execution_count": 32,
     "metadata": {},
     "output_type": "execute_result"
    }
   ],
   "source": [
    "cuadrados(5,3)"
   ]
  },
  {
   "cell_type": "code",
   "execution_count": 33,
   "metadata": {},
   "outputs": [
    {
     "name": "stdout",
     "output_type": "stream",
     "text": [
      "Hola, cuál es tu nombre? Marco\n",
      "Hola Marco, escribe el valor a: 5\n",
      "Muy bien Marco, ahora el valor b: 3\n",
      "El resultado de la operación de: '(a²+b²)²' , es: \n",
      "y asignamos la variables: (5² + 3² )²\n",
      "El resultado es: \n"
     ]
    },
    {
     "data": {
      "text/plain": [
       "1156"
      ]
     },
     "execution_count": 33,
     "metadata": {},
     "output_type": "execute_result"
    }
   ],
   "source": [
    "# Respuesta 3\n",
    "# Otra alternativa a la anterior que el programa nos pida los valores de a y b para luego realizar el cálculo: \n",
    "# esta práctica está realizada en virtud del último ejercicio\n",
    "def cuadrados(a,b):\n",
    "    a = a ** 2\n",
    "    b = b ** 2\n",
    "    return(a+b)**2\n",
    "\n",
    "nombre = input(\"Hola, cuál es tu nombre? \")\n",
    "a = int(input(f\"Hola {nombre}, escribe el valor a: \"))\n",
    "b = int(input(f\"Muy bien {nombre}, ahora el valor b: \"))\n",
    "print(\"El resultado de la operación de: '(a\\u00b2+b\\u00b2)\\u00b2' , es: \")\n",
    "print(\"y asignamos la variables: (%d\\u00b2 + %d\\u00b2 )\\u00b2\" % (a, b))\n",
    "print(\"El resultado es: \")\n",
    "cuadrados(a,b)\n"
   ]
  },
  {
   "cell_type": "markdown",
   "metadata": {},
   "source": [
    "### Ejercicio 4\n",
    "\n",
    "Escribid un programa que calcule el volumen de una esfera de radio `5`. **(1 punt)**"
   ]
  },
  {
   "cell_type": "code",
   "execution_count": 34,
   "metadata": {
    "attributes": {
     "classes": [
      "sourceCode"
     ],
     "id": ""
    }
   },
   "outputs": [
    {
     "name": "stdout",
     "output_type": "stream",
     "text": [
      "523.5987755982989\n"
     ]
    }
   ],
   "source": [
    "# Respuesta\n",
    "# Para calcular el volumen de una esfera su ecuación es la siguiente: V = 4/3 PI R**3\n",
    "# Así que conociendo el radio R y PI, ya tenemos la ecuación resuelta\n",
    "# Los resultados serán valores del tipo FLOAT\n",
    "r = 5.\n",
    "pi = 3.141592653589793\n",
    "V = 4./3. * pi * r ** 3\n",
    "print(V)"
   ]
  },
  {
   "cell_type": "code",
   "execution_count": 35,
   "metadata": {},
   "outputs": [
    {
     "name": "stdout",
     "output_type": "stream",
     "text": [
      "El volumen de una esfera con radio 5 es: 523.5987755982989\n"
     ]
    }
   ],
   "source": [
    "# También podemos realizar la misma operación con la función *math* importando el argumento pi\n",
    "import math\n",
    "r = 5.\n",
    "V = 4./3. * math.pi * r ** 3\n",
    "print(\"El volumen de una esfera con radio 5 es:\", V)"
   ]
  },
  {
   "cell_type": "markdown",
   "metadata": {},
   "source": [
    "### Ejercicio 5\n",
    "\n",
    "Escribid un programa que defina una lista con el nombre de todos los meses del año. Haced que muestre los meses que corresponden al otoño. **(1 punt)**"
   ]
  },
  {
   "cell_type": "code",
   "execution_count": 36,
   "metadata": {
    "attributes": {
     "classes": [
      "sourceCode"
     ],
     "id": ""
    }
   },
   "outputs": [
    {
     "data": {
      "text/plain": [
       "list"
      ]
     },
     "execution_count": 36,
     "metadata": {},
     "output_type": "execute_result"
    }
   ],
   "source": [
    "# Respuesta\n",
    "# Creamos la lista meses\n",
    "meses = ['Enero','Febrero','Marzo','Abril','Mayo','Junio','Julio','Agosto','Septiembre','Octubre','Noviembre','Diciembre']\n",
    "type(meses)"
   ]
  },
  {
   "cell_type": "code",
   "execution_count": 37,
   "metadata": {},
   "outputs": [
    {
     "data": {
      "text/plain": [
       "12"
      ]
     },
     "execution_count": 37,
     "metadata": {},
     "output_type": "execute_result"
    }
   ],
   "source": [
    "# calculamos la longitud de los elementos de la lista\n",
    "len(meses)"
   ]
  },
  {
   "cell_type": "code",
   "execution_count": 38,
   "metadata": {},
   "outputs": [
    {
     "data": {
      "text/plain": [
       "['Enero',\n",
       " 'Febrero',\n",
       " 'Marzo',\n",
       " 'Abril',\n",
       " 'Mayo',\n",
       " 'Junio',\n",
       " 'Julio',\n",
       " 'Agosto',\n",
       " 'Septiembre',\n",
       " 'Octubre',\n",
       " 'Noviembre',\n",
       " 'Diciembre']"
      ]
     },
     "execution_count": 38,
     "metadata": {},
     "output_type": "execute_result"
    }
   ],
   "source": [
    "# comprobamos la lista\n",
    "meses"
   ]
  },
  {
   "cell_type": "code",
   "execution_count": 39,
   "metadata": {},
   "outputs": [],
   "source": [
    "# Separamos la lista anterior en 4 estaciones\n",
    "invierno = meses[0], meses[10:12]\n",
    "primavera = meses[2:5]\n",
    "verano = meses[5:8]\n",
    "otonyo = meses[8:11]"
   ]
  },
  {
   "cell_type": "code",
   "execution_count": 40,
   "metadata": {},
   "outputs": [
    {
     "name": "stdout",
     "output_type": "stream",
     "text": [
      "['Septiembre', 'Octubre', 'Noviembre']\n"
     ]
    }
   ],
   "source": [
    "# mostramos el resultado de otoño\n",
    "print(otonyo)"
   ]
  },
  {
   "cell_type": "code",
   "execution_count": 41,
   "metadata": {},
   "outputs": [
    {
     "name": "stdout",
     "output_type": "stream",
     "text": [
      "['Marzo', 'Abril', 'Mayo']\n"
     ]
    }
   ],
   "source": [
    "# mostramos el resultado de primavera\n",
    "print(primavera)"
   ]
  },
  {
   "cell_type": "code",
   "execution_count": 42,
   "metadata": {},
   "outputs": [
    {
     "name": "stdout",
     "output_type": "stream",
     "text": [
      "['Junio', 'Julio', 'Agosto']\n"
     ]
    }
   ],
   "source": [
    "# mostramos el resultado de verano\n",
    "print(verano)"
   ]
  },
  {
   "cell_type": "code",
   "execution_count": 43,
   "metadata": {},
   "outputs": [
    {
     "name": "stdout",
     "output_type": "stream",
     "text": [
      "('Enero', ['Noviembre', 'Diciembre'])\n"
     ]
    }
   ],
   "source": [
    "# mostramos el resultado de invierno\n",
    "print(invierno)"
   ]
  },
  {
   "cell_type": "markdown",
   "metadata": {},
   "source": [
    "### Ejercicio 6\n",
    "\n",
    "Escribid un programa en el cual se defina una agenda telefónica utilizando un _diccionario_. Por ejemplo: Homer Simpson con número de teléfono 1234, Bart Simpson con número de teléfono 5678, etc. Tanto los nombres como los números de teléfono pueden ser completamente ficticios. Mostrad también el número de teléfono correspondiente a cualquiera de las personas definidas en el diccionario utilizando alguno de los métodos de acceso a elementos de un diccionario. **(1 punt)**"
   ]
  },
  {
   "cell_type": "code",
   "execution_count": 44,
   "metadata": {},
   "outputs": [],
   "source": [
    "# Respuesta\n",
    "# Definimos la variable agenda con los pares key y values\n",
    "agenda = {'Homer':1000,'Bart':1001,'Lisa':1002,'Marge':1003,'Maggie':1004}"
   ]
  },
  {
   "cell_type": "code",
   "execution_count": 45,
   "metadata": {},
   "outputs": [
    {
     "name": "stdout",
     "output_type": "stream",
     "text": [
      "dict_keys(['Homer', 'Bart', 'Lisa', 'Marge', 'Maggie'])\n"
     ]
    }
   ],
   "source": [
    "# Imprimimos los valores KEYS\n",
    "print(agenda.keys())"
   ]
  },
  {
   "cell_type": "code",
   "execution_count": 46,
   "metadata": {},
   "outputs": [
    {
     "name": "stdout",
     "output_type": "stream",
     "text": [
      "dict_values([1000, 1001, 1002, 1003, 1004])\n"
     ]
    }
   ],
   "source": [
    "# Imprimimos los valores VALUES\n",
    "print(agenda.values())"
   ]
  },
  {
   "cell_type": "code",
   "execution_count": 47,
   "metadata": {},
   "outputs": [
    {
     "name": "stdout",
     "output_type": "stream",
     "text": [
      "1003\n"
     ]
    }
   ],
   "source": [
    "# Podemos buscar por nombre\n",
    "name = 'Marge'\n",
    "agenda_name = agenda[name] \n",
    "print(agenda_name)"
   ]
  },
  {
   "cell_type": "code",
   "execution_count": 48,
   "metadata": {},
   "outputs": [
    {
     "data": {
      "text/plain": [
       "True"
      ]
     },
     "execution_count": 48,
     "metadata": {},
     "output_type": "execute_result"
    }
   ],
   "source": [
    "# También podemos el key dentro de nuestro dict.\n",
    "'Marge' in agenda"
   ]
  },
  {
   "cell_type": "markdown",
   "metadata": {},
   "source": [
    "### Ejercicio 7\n",
    "\n",
    "Escribid un programa que muestre por pantalla una cadena de carácteres con el siguiente formato:\n",
    "\n",
    "```\n",
    "El mes de {nombre_mes} tiene {num_dias} días.\n",
    "```\n",
    "\n",
    "donde los valores de `{nombre_mes}` y `{num_dias}` estaran definidas en dos variables. Por ejemplo: _El mes de **febrero** tiene **28** días._ **(1 punt)**"
   ]
  },
  {
   "cell_type": "code",
   "execution_count": 49,
   "metadata": {},
   "outputs": [
    {
     "name": "stdout",
     "output_type": "stream",
     "text": [
      "El mes de octubre tiene 31 días\n"
     ]
    }
   ],
   "source": [
    "# Respuesta 1\n",
    "# De forma manual y muy sencilla podemos resolver de la siguiente manera:\n",
    "mes = 'octubre'\n",
    "dias = 31\n",
    "print(f\"El mes de {mes} tiene {dias} días\")"
   ]
  },
  {
   "cell_type": "code",
   "execution_count": 50,
   "metadata": {},
   "outputs": [
    {
     "name": "stdout",
     "output_type": "stream",
     "text": [
      "El mes de Noviembre tiene 30 días\n"
     ]
    }
   ],
   "source": [
    "# probaremos con otro mes\n",
    "mes = 'Noviembre'\n",
    "dias = 30\n",
    "print(f\"El mes de {mes} tiene {dias} días\")"
   ]
  },
  {
   "cell_type": "code",
   "execution_count": 51,
   "metadata": {},
   "outputs": [],
   "source": [
    "# Respuesta 3\n",
    "# Se podría resolver con una definición de una función que llame dos argumentos: mes y dias\n",
    "\n",
    "def conta(mes,dias):\n",
    "    print(f\"El mes de {mes} tiene {dias} días.\")\n",
    "\n"
   ]
  },
  {
   "cell_type": "code",
   "execution_count": 52,
   "metadata": {},
   "outputs": [
    {
     "name": "stdout",
     "output_type": "stream",
     "text": [
      "El mes de Octubre tiene 31 días.\n"
     ]
    }
   ],
   "source": [
    "# Realizamos la práctica con Octubre\n",
    "conta(\"Octubre\",31)"
   ]
  },
  {
   "cell_type": "code",
   "execution_count": 53,
   "metadata": {},
   "outputs": [
    {
     "name": "stdout",
     "output_type": "stream",
     "text": [
      "El mes de Noviembre tiene 30 días.\n"
     ]
    }
   ],
   "source": [
    "# Veámos con otro mes\n",
    "conta(\"Noviembre\",30)"
   ]
  },
  {
   "cell_type": "markdown",
   "metadata": {},
   "source": [
    "### Ejercicio 8\n",
    "\n",
    "Utilizando el _idiom_ de _list comprehensions_, proporcionad una expresión que devuelva: **(1 punt)**"
   ]
  },
  {
   "cell_type": "markdown",
   "metadata": {},
   "source": [
    "**a)** Una lista de los cuadrados de los números naturales entre 7 y 21:"
   ]
  },
  {
   "cell_type": "code",
   "execution_count": 54,
   "metadata": {},
   "outputs": [
    {
     "data": {
      "text/plain": [
       "[7, 8, 9, 10, 11, 12, 13, 14, 15, 16, 17, 18, 19, 20, 21]"
      ]
     },
     "execution_count": 54,
     "metadata": {},
     "output_type": "execute_result"
    }
   ],
   "source": [
    "# Respuesta\n",
    "num = list(range(7, 22)) #hasta 21 incluido la función range será hasta 22\n",
    "num"
   ]
  },
  {
   "cell_type": "code",
   "execution_count": 55,
   "metadata": {},
   "outputs": [
    {
     "name": "stdout",
     "output_type": "stream",
     "text": [
      "[49, 64, 81, 100, 121, 144, 169, 196, 225, 256, 289, 324, 361, 400, 441]\n"
     ]
    }
   ],
   "source": [
    "# aplicamos el cuadrado del listado anterior\n",
    "print([x*x for x in num])"
   ]
  },
  {
   "cell_type": "markdown",
   "metadata": {},
   "source": [
    "**b)** Una lista de los cuadrados de los números naturales **impares** entre 7 y 21:"
   ]
  },
  {
   "cell_type": "code",
   "execution_count": 56,
   "metadata": {},
   "outputs": [
    {
     "data": {
      "text/plain": [
       "[7, 9, 11, 13, 15, 17, 19, 21]"
      ]
     },
     "execution_count": 56,
     "metadata": {},
     "output_type": "execute_result"
    }
   ],
   "source": [
    "# Respuesta\n",
    "num = range(7, 22, 2)\n",
    "list(num)\n"
   ]
  },
  {
   "cell_type": "code",
   "execution_count": 57,
   "metadata": {},
   "outputs": [
    {
     "name": "stdout",
     "output_type": "stream",
     "text": [
      "[49, 81, 121, 169, 225, 289, 361, 441]\n"
     ]
    }
   ],
   "source": [
    "# aplicamos el cuadrado del listado anterior\n",
    "print([x*x for x in num])"
   ]
  },
  {
   "cell_type": "code",
   "execution_count": 58,
   "metadata": {},
   "outputs": [
    {
     "name": "stdout",
     "output_type": "stream",
     "text": [
      "[49, 81, 121, 169, 225, 289, 361, 441]\n"
     ]
    }
   ],
   "source": [
    "# Otra alternativa sería\n",
    "cuadrados = []\n",
    "for x in num:\n",
    "    cuadrados.append(x**2)\n",
    "print(cuadrados)"
   ]
  },
  {
   "cell_type": "markdown",
   "metadata": {},
   "source": [
    "**c)** Una lista de las **vocales** que aparecen en la cadena `s`, manteniendo el orden en el que aparecen:"
   ]
  },
  {
   "cell_type": "code",
   "execution_count": 59,
   "metadata": {},
   "outputs": [
    {
     "name": "stdout",
     "output_type": "stream",
     "text": [
      "['a', 'e', 'i', 'o', 'u']\n"
     ]
    }
   ],
   "source": [
    "s = \"Hello Python, hello world!\"\n",
    "\n",
    "# Respuesta\n",
    "# Asignamos el listado de vocales\n",
    "vocales = ['a','e','i','o','u']\n",
    "\n",
    "# imprimimos el listado\n",
    "print(vocales)"
   ]
  },
  {
   "cell_type": "code",
   "execution_count": 60,
   "metadata": {},
   "outputs": [
    {
     "name": "stdout",
     "output_type": "stream",
     "text": [
      "e\n"
     ]
    }
   ],
   "source": [
    "# devuelve la segunda vocal\n",
    "print(vocales[1])"
   ]
  },
  {
   "cell_type": "code",
   "execution_count": 61,
   "metadata": {},
   "outputs": [
    {
     "name": "stdout",
     "output_type": "stream",
     "text": [
      "[False, True, False, False, True, False, False, False, False, False, True, False, False, False, False, True, False, False, True, False, False, True, False, False, False, False]\n"
     ]
    }
   ],
   "source": [
    "# veamos como funciona la búsqueda de las vocales en la variable string \"s\" \n",
    "# devolviendo resultados True o False si encuentra la vocal\n",
    "print([v in vocales for v in s])"
   ]
  },
  {
   "cell_type": "code",
   "execution_count": 72,
   "metadata": {},
   "outputs": [
    {
     "name": "stdout",
     "output_type": "stream",
     "text": [
      "En la string s: Hello Python, hello world! ,he contado: 6 vocales.\n"
     ]
    }
   ],
   "source": [
    "# Ahora devolveremos solo las vocales sumando su numero total\n",
    "count = 0\n",
    "for i in s:\n",
    "    if i in vocales:\n",
    "        count += 1\n",
    "print(\"En la string s: \" + s + \" ,he contado: \"+ count.__str__() + \" vocales.\")"
   ]
  },
  {
   "cell_type": "code",
   "execution_count": 73,
   "metadata": {},
   "outputs": [
    {
     "data": {
      "text/plain": [
       "6"
      ]
     },
     "execution_count": 73,
     "metadata": {},
     "output_type": "execute_result"
    }
   ],
   "source": [
    "count"
   ]
  },
  {
   "cell_type": "code",
   "execution_count": null,
   "metadata": {},
   "outputs": [],
   "source": [
    "# Realizamos la operación de devolver las vocales en el orden que la encuentra\n",
    "lista_vocales = []\n",
    "for i in s:\n",
    "    if i in vocales:\n",
    "        lista_vocales.append(i)  \n",
    "print(lista_vocales)"
   ]
  },
  {
   "cell_type": "markdown",
   "metadata": {},
   "source": [
    "### Ejercicio Opcional\n",
    "\n",
    "Escribid un programa que genere una lista de números aleatorios y calcule el producto de todos los números de la lista. Los números de la lista deben cumplir la siguiente condición: deben ser números impares entre 0 y 100. Además, el programa deberá preguntar al usuario cuantos elementos debe contener la lista (el usuario introducirá el número de elementos utilizando el teclado) y mostrar un mensaje de error si el usuario pide generar una lista de más de 50 elementos. Haced que el programa muestre la lista generada y el producto de sus elementos."
   ]
  },
  {
   "cell_type": "markdown",
   "metadata": {},
   "source": [
    "### Respuesta\n",
    "#### Definimos el pseudo-codigo de este ejercicio\n",
    "```\n",
    "Variable range numeros enteros impares entre 0 y 100\n",
    "Prompt > usuario indica valores enteros de 1 a 50 incluido\n",
    "    RETURN\n",
    "        listado aleatorio de X valores indicados en la variable range y calcular sus productos\n",
    "    ELSE\n",
    "        Prompt > usuario indica valores > 50 o valores incorrectos tipo string, float\n",
    "    RETURN\n",
    "        Mensaje de error\n",
    "```"
   ]
  },
  {
   "cell_type": "code",
   "execution_count": null,
   "metadata": {},
   "outputs": [],
   "source": [
    "# Primero tenemos que importar la biblioteca random\n",
    "import random\n",
    "item = random.randint(1,100,2)\n",
    "print([x*len(item) for x in item])\n",
    "\n",
    "\n",
    "\n"
   ]
  },
  {
   "cell_type": "code",
   "execution_count": null,
   "metadata": {},
   "outputs": [],
   "source": [
    "# creamos ahora la estructura\n",
    "nombre = input(\"¿Cómo se llama?\")\n",
    "print(f\"Mucho gusto de conocerte, {nombre}, Dígame la cantidad de elementos a multiplicar:\")"
   ]
  },
  {
   "cell_type": "code",
   "execution_count": null,
   "metadata": {},
   "outputs": [],
   "source": [
    "item = range(1,100,2)\n",
    "items = [5,3,1]\n",
    "def multiplyList(myList) :     \n",
    "    # Multiply elements one by one \n",
    "    result = 1\n",
    "    for x in myList: \n",
    "         result = result * x  \n",
    "    return result  \n",
    "      \n",
    "# Driver code \n",
    "list1 = input([5,3,1])\n",
    "print(multiplyList(list1)) "
   ]
  },
  {
   "cell_type": "markdown",
   "metadata": {},
   "source": [
    "---\n",
    "\n",
    "## Soluciones ejercicios para practicar"
   ]
  },
  {
   "cell_type": "markdown",
   "metadata": {},
   "source": [
    "### Ejercicio 1 \n",
    "\n",
    "Hay diferentes maneras de conseguir el mismo resultado y a continuación vamos a ver algunas de ellas.\n",
    "\n",
    "La primera opción, y quizás la más simple, sería usando las triples comillas dobles (\"\"\" \"\"\"). En Python, las triples comillas dobles se interpretan literalmente y cualquier carácter que incluya nuestra cadena será renderizado tal y como aparece en la cadena. Esto nos puede resultar útil si por ejemplo nuestra cadena incluye comillas simples y comillas dobles. Vamos a ver el código:"
   ]
  },
  {
   "cell_type": "code",
   "execution_count": null,
   "metadata": {},
   "outputs": [],
   "source": [
    "print \"\"\"Hello\n",
    "\n",
    "    Python\"\"\""
   ]
  },
  {
   "cell_type": "markdown",
   "metadata": {},
   "source": [
    "La segunda opción incluye el uso de carácteres especiales tal como \"\\n\" y \"\\t\". El primero produce un salto de línea en la salida por pantalla, mientras que el segundo produce un tabulado (TAB). Por lo tanto, nuestro código sería:"
   ]
  },
  {
   "cell_type": "code",
   "execution_count": null,
   "metadata": {},
   "outputs": [],
   "source": [
    "print \"Hello\\n\\n\\tPython\""
   ]
  },
  {
   "cell_type": "markdown",
   "metadata": {},
   "source": [
    "En este caso podemos ver que la indentación de la palabra \"Python\" es superior que en el caso anterior. Esto es debido a que, por defecto, el carácter \\t produce 8 espacios en blanco para \"simular\" la tabulación.\n",
    "\n",
    "Alternativamente, podemos hacer lo siguiente (poner nosotros mismos los espacios en blanco al principio de la línea):"
   ]
  },
  {
   "cell_type": "code",
   "execution_count": null,
   "metadata": {},
   "outputs": [],
   "source": [
    "print \"Hello\\n\\n    Python\""
   ]
  },
  {
   "cell_type": "markdown",
   "metadata": {},
   "source": [
    "### Ejercicio 2\n",
    "\n",
    "La forma más fácil de definir un array en Python es utilizando [ ]:"
   ]
  },
  {
   "cell_type": "code",
   "execution_count": null,
   "metadata": {},
   "outputs": [],
   "source": [
    "dias = ['Lunes', 'Martes', 'Miércoles', 'Jueves', 'Viernes', 'Sábado', 'Domingo']"
   ]
  },
  {
   "cell_type": "markdown",
   "metadata": {},
   "source": [
    "Para acceder a los elementos de un array utilizaremos el mismo operador [], pero especificaremos la posición o índice del elemento al cual queremos acceder. Debemos tener en cuenta que en Python, el primer elemento de una lista tiene índice 0."
   ]
  },
  {
   "cell_type": "code",
   "execution_count": null,
   "metadata": {},
   "outputs": [],
   "source": [
    "# Primer día de la semana\n",
    "print(dias[0])\n",
    "\n",
    "# Penúltimo día de la semana \n",
    "print(dias[-2])"
   ]
  },
  {
   "cell_type": "markdown",
   "metadata": {},
   "source": [
    "Python nos permite utilizar un índice negativo que contaría des del final del array hacía delante."
   ]
  },
  {
   "cell_type": "markdown",
   "metadata": {},
   "source": [
    "### Ejercicio 3\n",
    "\n",
    "La técnica de _list comprehension_ es la forma especial que tiene Python de iterar una lista y obtener otra lista en una única línea de código. Por ejemplo, si queremos crear una lista con el cuadrado de los 10 primeros números naturales, en Python lo haríamos de la siguiente forma:"
   ]
  },
  {
   "cell_type": "code",
   "execution_count": null,
   "metadata": {},
   "outputs": [],
   "source": [
    "naturales = [0, 1, 2, 3, 4, 5, 6, 7, 8, 9]\n",
    "cuadrados = [x*x for x in naturales]\n",
    "print cuadrados"
   ]
  },
  {
   "cell_type": "markdown",
   "metadata": {},
   "source": [
    "Es una forma muy compacta de notación que nos ahorra escribir en un bucle desplegado."
   ]
  }
 ],
 "metadata": {
  "kernelspec": {
   "display_name": "Python 3",
   "language": "python",
   "name": "python3"
  },
  "language_info": {
   "codemirror_mode": {
    "name": "ipython",
    "version": 3
   },
   "file_extension": ".py",
   "mimetype": "text/x-python",
   "name": "python",
   "nbconvert_exporter": "python",
   "pygments_lexer": "ipython3",
   "version": "3.6.8"
  }
 },
 "nbformat": 4,
 "nbformat_minor": 1
}
