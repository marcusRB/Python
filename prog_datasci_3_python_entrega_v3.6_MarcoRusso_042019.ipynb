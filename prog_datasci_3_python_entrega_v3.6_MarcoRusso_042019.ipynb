{
 "cells": [
  {
   "cell_type": "markdown",
   "metadata": {},
   "source": [
    "Programación para *Data Science*\n",
    "============================\n",
    "\n",
    "Unidad 3: Conceptos avanzados de Python\n",
    "--------------------------------------\n",
    "\n",
    "En este Notebook encontraréis dos conjuntos de ejercicios: un primer conjunto de ejercicios para practicar y que no puntuan, pero que recomendamos intentar resolver y un segundo conjunto que evaluaremos como PEC. Además, encontraréis un ejercicio opcional que aunque no puntua directamente para la PEC, sí que nos sirve para subir la nota al final de la asignatura."
   ]
  },
  {
   "cell_type": "markdown",
   "metadata": {},
   "source": [
    "## Ejercicios para practicar\n",
    "\n",
    "**Los siguientes 3 ejercicios no puntuan para la PEC**, pero os recomendamos que los intentéis resolver antes de pasar a los ejercicios propios de la PEC. También podéis encontrar las soluciones a estos ejercicios al final del Notebook. "
   ]
  },
  {
   "cell_type": "markdown",
   "metadata": {},
   "source": [
    "### Ejercicio 1\n",
    "\n",
    "El siguiente ejercicio consiste en pasar un número en base 16 (hexadecimal, 0-9/A-F) a base 10 (decimal). Para hacerlo, debéis crear una **función** que dado un _string_ que representa un número en hexadecimal, por ejemplo, `AE3F`, devuelva el número \n",
    "natural correspondiente. En este caso, el resultado sería `44607`."
   ]
  },
  {
   "cell_type": "raw",
   "metadata": {},
   "source": [
    "# Respuesta\n",
    "# El pseudo-código del nuestro programa de convertidor hexadecimal a decimal\n",
    "\n",
    "```\n",
    "código hexadecimal HEXA será base 16\n",
    "    FOR i in HEXA\n",
    "    valor X 16 ** (len(HEXA)-1) # cada valor en HEXA será a la potencia del número de elementos - 1\n",
    "    valor i + valor i+(len(HEXA)) # el resultado del primero sumando a los sucesivos del listado de elementos\n",
    "    RETURN decimal\n",
    "```\n"
   ]
  },
  {
   "cell_type": "code",
   "execution_count": null,
   "metadata": {},
   "outputs": [],
   "source": [
    "# Definimos la escala del sistema hexadecimal\n",
    "hexa = ['0','1','2','3','4','5','6','7','8','9','A','B','C','D','E','F']\n",
    "\n",
    "# el resultado de cada índice de este listado será su correspondiente decimal, por ejemplo\n",
    "print(len(hexa))"
   ]
  },
  {
   "cell_type": "code",
   "execution_count": null,
   "metadata": {},
   "outputs": [],
   "source": [
    "# Si queremos devolver el decimal 15 nos devolverá su correspondiente valor del listado\n",
    "print(hexa[15])"
   ]
  },
  {
   "cell_type": "code",
   "execution_count": null,
   "metadata": {},
   "outputs": [],
   "source": [
    "# Construimos la función\n",
    "def convert_to_deci(string):\n",
    "    n = len(hexa) - 1\n",
    "    sum = 0\n",
    "    for i in string:\n",
    "        sum = i * (16 ** n)\n",
    "    return sum"
   ]
  },
  {
   "cell_type": "code",
   "execution_count": null,
   "metadata": {},
   "outputs": [],
   "source": [
    "string = 'A'"
   ]
  },
  {
   "cell_type": "code",
   "execution_count": null,
   "metadata": {},
   "outputs": [],
   "source": [
    "convert_to_deci('A')"
   ]
  },
  {
   "cell_type": "markdown",
   "metadata": {},
   "source": [
    "### Ejercicio 2\n",
    "\n",
    "Las excepciones son errores detectados en tiempo de ejecución. Pueden y deben ser manejadas por el programador para minimizar el riesgo de que un determinado programa falle de forma no controlada. Escribid, en lenguaje Python, cómo generar y capturar la siguiente excepción: **ZeroDivisionError**."
   ]
  },
  {
   "cell_type": "code",
   "execution_count": 44,
   "metadata": {},
   "outputs": [
    {
     "ename": "ZeroDivisionError",
     "evalue": "division by zero",
     "output_type": "error",
     "traceback": [
      "\u001b[0;31m---------------------------------------------------------------------------\u001b[0m",
      "\u001b[0;31mZeroDivisionError\u001b[0m                         Traceback (most recent call last)",
      "\u001b[0;32m<ipython-input-44-c7a350de7176>\u001b[0m in \u001b[0;36m<module>\u001b[0;34m\u001b[0m\n\u001b[1;32m      3\u001b[0m \u001b[0mx\u001b[0m \u001b[0;34m=\u001b[0m \u001b[0;36m0\u001b[0m\u001b[0;34m\u001b[0m\u001b[0;34m\u001b[0m\u001b[0m\n\u001b[1;32m      4\u001b[0m \u001b[0mz\u001b[0m \u001b[0;34m=\u001b[0m \u001b[0;36m0\u001b[0m\u001b[0;34m\u001b[0m\u001b[0;34m\u001b[0m\u001b[0m\n\u001b[0;32m----> 5\u001b[0;31m \u001b[0mc\u001b[0m \u001b[0;34m=\u001b[0m \u001b[0mx\u001b[0m\u001b[0;34m/\u001b[0m\u001b[0mz\u001b[0m\u001b[0;34m\u001b[0m\u001b[0;34m\u001b[0m\u001b[0m\n\u001b[0m\u001b[1;32m      6\u001b[0m \u001b[0mprint\u001b[0m\u001b[0;34m(\u001b[0m\u001b[0mc\u001b[0m\u001b[0;34m)\u001b[0m\u001b[0;34m\u001b[0m\u001b[0;34m\u001b[0m\u001b[0m\n",
      "\u001b[0;31mZeroDivisionError\u001b[0m: division by zero"
     ]
    }
   ],
   "source": [
    "# Respuesta\n",
    "# Las excepciones puedesn ser recogidas con el siguiente algoritmo . try / except\n",
    "x = 0\n",
    "z = 0\n",
    "c = x/z\n",
    "print(c)"
   ]
  },
  {
   "cell_type": "code",
   "execution_count": 45,
   "metadata": {},
   "outputs": [
    {
     "name": "stdout",
     "output_type": "stream",
     "text": [
      "0\n"
     ]
    }
   ],
   "source": [
    "# Con el error anterior podemos indicar el valor correspondiente en except\n",
    "try:\n",
    "    c = x/z\n",
    "except:\n",
    "    c = 0\n",
    "print(c)"
   ]
  },
  {
   "cell_type": "code",
   "execution_count": 46,
   "metadata": {},
   "outputs": [
    {
     "name": "stdout",
     "output_type": "stream",
     "text": [
      "ZeroDivisionError = 0\n"
     ]
    }
   ],
   "source": [
    "# También podemos recoger el valor error e indicarlo en la función print\n",
    "try:\n",
    "    c = x/z\n",
    "    print(c)\n",
    "except:\n",
    "    print(\"ZeroDivisionError =\", c)"
   ]
  },
  {
   "cell_type": "markdown",
   "metadata": {},
   "source": [
    "### Ejercicio 3\n",
    "\n",
    "Completad el código necesario para calcular el número de vocales y de consonantes respectivamente de un texto."
   ]
  },
  {
   "cell_type": "code",
   "execution_count": 43,
   "metadata": {
    "attributes": {
     "classes": [
      "sourceCode"
     ],
     "id": ""
    }
   },
   "outputs": [
    {
     "name": "stdout",
     "output_type": "stream",
     "text": [
      "El número de vocales es 44. \n",
      "El número de consonantes es 62. \n"
     ]
    }
   ],
   "source": [
    "def contar_vocales_y_consonantes(texto):\n",
    "    # Cuenta las vocales contenidas en el string texto y también las consonantes.\n",
    "    num_vocales = 0\n",
    "    num_consonantes = 0\n",
    "\n",
    "    # Código que hay que completar.\n",
    "    # Definimos vocales y consonantes en dos variables\n",
    "    vocales = 'aeiou'\n",
    "    consonantes = 'bcdfghjklmnpqrstvwxyz'\n",
    "    ''' \n",
    "    Ejecutaremos un ciclo for para la stringa TEXTO pero al tener las variables anteriores en minúsculas, \n",
    "    para evitar de pasar otro validador, convertimos el texto con la función lower().\n",
    "    Sucesivamente para cada índice I en nuestro texto, evaluará si es vocal o consonante e incrementar una unidad\n",
    "    '''\n",
    "    \n",
    "    for i in texto.lower():\n",
    "        if i in vocales:\n",
    "            num_vocales += 1\n",
    "        elif i in consonantes:\n",
    "            num_consonantes += 1\n",
    "    return num_vocales, num_consonantes\n",
    "\n",
    "texto = \"Orbiting Earth in the spaceship, I saw how beautiful our planet is. \\\n",
    "            People, let us preserve and increase this beauty, not destroy it!\"\n",
    "\n",
    "num_vocales, num_consonantes = contar_vocales_y_consonantes(texto)\n",
    "print(\"El número de vocales es %d. \" % num_vocales)\n",
    "print(\"El número de consonantes es %d. \" % num_consonantes)"
   ]
  },
  {
   "cell_type": "markdown",
   "metadata": {},
   "source": [
    "---\n",
    "\n",
    "## Ejercicios y preguntas teóricas para la PEC\n",
    "\n",
    "A continuación encontraréis los **ejercicios y preguntas teóricas que debéis completar en esta PEC** y que forman parte de la evaluación de esta unidad."
   ]
  },
  {
   "cell_type": "markdown",
   "metadata": {},
   "source": [
    "### Pregunta 1\n",
    "\n",
    "Las funciones _range_ y _xrange_ pueden utilizarse con la misma finalidad, pero su funcionamiento es diferente. Poned un ejemplo donde sería recomendable intercambiar la función _range_ por la función _xrange_. **(0.5 puntos)**\n",
    "\n",
    "**Respuesta:**"
   ]
  },
  {
   "cell_type": "code",
   "execution_count": null,
   "metadata": {},
   "outputs": [],
   "source": [
    "# Escribid vuestra respuesta aquí\n",
    "# En Python 2.x existen las funciones range y xrange que en definitiva no tiene diferencia en resultado\n",
    "\n",
    "# Ejemplo con range\n",
    "r = range(10)\n",
    "for i in r:\n",
    "    print(i)"
   ]
  },
  {
   "cell_type": "code",
   "execution_count": null,
   "metadata": {},
   "outputs": [],
   "source": [
    "# Ejemplo con xrange \n",
    "# No se ejecuta en la versión Python 3.x, pero sí en la 2.x\n",
    "\n",
    "x = xrange(10)\n",
    "for i in x:\n",
    "    print(i)\n",
    "\n"
   ]
  },
  {
   "cell_type": "code",
   "execution_count": null,
   "metadata": {},
   "outputs": [],
   "source": [
    "# Si veamos el resultado de ambos, veamos que existe una diferencia de tipo\n",
    "# range es un tipo LIST\n",
    "type(r)"
   ]
  },
  {
   "cell_type": "code",
   "execution_count": null,
   "metadata": {},
   "outputs": [],
   "source": [
    "# xrange es un tipo propio, devuelve xrange\n",
    "type(x)"
   ]
  },
  {
   "cell_type": "markdown",
   "metadata": {},
   "source": [
    "**NOTA:**  La diferencia entre _range()_ y _xrange()_ es que la primera función devuelve una nueva lista con números de ese rango especificado, mientras que la función _xrange_ devuelve un iterador, que es más eficiente."
   ]
  },
  {
   "cell_type": "markdown",
   "metadata": {},
   "source": [
    "### Pregunta 2\n",
    "\n",
    "a) Explicad brevemente cada línea de código del siguiente bloque (añadid comentarios en el mismo bloque de código):"
   ]
  },
  {
   "cell_type": "code",
   "execution_count": 47,
   "metadata": {},
   "outputs": [
    {
     "ename": "SyntaxError",
     "evalue": "Missing parentheses in call to 'print'. Did you mean print(\"Primera iteración: número generado =\", i)? (<ipython-input-47-885fe9d9ed11>, line 18)",
     "output_type": "error",
     "traceback": [
      "\u001b[0;36m  File \u001b[0;32m\"<ipython-input-47-885fe9d9ed11>\"\u001b[0;36m, line \u001b[0;32m18\u001b[0m\n\u001b[0;31m    print \"Primera iteración: número generado =\", i\u001b[0m\n\u001b[0m                                               ^\u001b[0m\n\u001b[0;31mSyntaxError\u001b[0m\u001b[0;31m:\u001b[0m Missing parentheses in call to 'print'. Did you mean print(\"Primera iteración: número generado =\", i)?\n"
     ]
    }
   ],
   "source": [
    "''' \n",
    "Primer paso se define la función create_generator(), segundo paso pasaría a la variable sucesiva num_generator y su ciclo for loop.\n",
    "Esta función se encarga de generar un ciclo con un rango(10) de 0 a 9, y por cada elemento retorna el valor mismo.\n",
    "Yield juega un papel importante, es muy similar al return, pero este lo ejecuta en dos fase: retorna primero un generador de objetos, \n",
    "y sucesivamente devuelve los resultados sin que se almacenan, de hecho es un recurso muy importante porque no guarda memoria.\n",
    "'''\n",
    "\n",
    "def create_generator():\n",
    "    for i in range(10):\n",
    "        yield i\n",
    "\n",
    "# la variable num_generator será la función misma declarada        \n",
    "num_generator = create_generator()\n",
    "\n",
    "# Tercer paso será este ciclo for, por cada i generada con la función create_generator(), lo va recogiendo e imprimiendo el resultado\n",
    "# Muy similar sería como una lista, pero esta última guarda memoria, yield se encarga de realizarlo \"en la nube\".\n",
    "for i in num_generator:\n",
    "    print \"Primera iteración: número generado =\", i\n",
    "    \n",
    "# Este otro ciclo no se podrá ejecutar, por no encontrar el objeto j en num_generator.\n",
    "for j in num_generator:\n",
    "    print \"Segunda iteración: número generado =\", j"
   ]
  },
  {
   "cell_type": "markdown",
   "metadata": {},
   "source": [
    "b) Explicad brevemente la salida por pantalla que observamos al ejecutar el código anterior.\n",
    "\n",
    "**(1.5 puntos)**\n",
    "\n",
    "**Respuesta**"
   ]
  },
  {
   "cell_type": "markdown",
   "metadata": {},
   "source": [
    "Al ejecutar la función anterior, nos devuelve los 10 objetos iterados con el primer ciclo for, quedando pausado el último ciclo for del objeto j. \n",
    "\n",
    "El resultado serán las 10 impresiones del número generado de rango(10), es decir de 0 a 9"
   ]
  },
  {
   "cell_type": "markdown",
   "metadata": {},
   "source": [
    "### Ejercicio 1\n",
    "\n",
    "Escribid una función que dada una lista de planetas del sistema solar, pregunte al usuario que introduzca una posición y muestre el plante correspondiente a dicha posición. Por ejemplo, si tenemos la siguiente lista: `['Mercurio', 'Venus', 'Tierra', 'Marte']` y el usuario nos ha introducido la posición `3`, hemos de mostrar como resultado por pantalla: `Tierra`.\n",
    "\n",
    "Consideraciones:\n",
    "\n",
    "- La posición que introduzca el usuario tiene que ser un número entero estrictamente positivo.\n",
    "- La función debe controlar el acceso a una posición fuera de la lista mediante una **excepción**. Por ejemplo, en el caso anterior debemos mostrar una mensaje de error si el usuario pide acceder a la posición 10.\n",
    "\n",
    "**(1.5 puntos)**"
   ]
  },
  {
   "cell_type": "code",
   "execution_count": 54,
   "metadata": {},
   "outputs": [
    {
     "name": "stdout",
     "output_type": "stream",
     "text": [
      "Hola, ¿Cómo te llamas? : Marco\n",
      "Mucho gusto conocerte, Marco, \n",
      " elige una posición del listado ['Mercurio', 'Venus', 'Tierra', 'Marte', 'Jupiter', 'Saturno', 'Urano', 'Neptuno'], por favor: 10\n",
      "No hay demasiados planetas, intentalo!\n"
     ]
    }
   ],
   "source": [
    "# Definimos el listado de planetas\n",
    "planetas = ['Mercurio','Venus','Tierra','Marte','Jupiter','Saturno','Urano','Neptuno']\n",
    "\n",
    "'''\n",
    "Pseudo-código\n",
    "\n",
    "Obtenemos de una funcón usuario() los datos, ha de ser un valor entero para que pueda almacenarlo como pos\n",
    "Devolverá una otra función con su argumento place(pos). Esta creará una try...except para que pueda evaluar:\n",
    "SI pos es entero AND pos > 0 <= longitud de (planetas)\n",
    "    TRUE i será igual al índice de planetas -1 para que podamos asignar al índice 0 - 1, 1 - 2, y así seguido.\n",
    "        devolverá el nombre del planeta\n",
    "    FALSE\n",
    "        en este caso el except nos devolverá un error que hemos superado el listado de planetas\n",
    "'''\n",
    "\n",
    "\n",
    "\n",
    "def place(pos):\n",
    "    try:\n",
    "        if type(pos) == int and pos > 0 <= len(planetas):\n",
    "            i = planetas[pos-1]\n",
    "            print(\"El planeta seleccionado es: %s\" % i)\n",
    "        else:\n",
    "            print(\"Has indicado un valor no correcto!\")\n",
    "    except:\n",
    "        print(\"No hay demasiados planetas, intentalo!\")\n",
    "        \n",
    "def usuario():\n",
    "    nombre = input(\"Hola, ¿Cómo te llamas? : \")\n",
    "    pos = int(input(f\"Mucho gusto conocerte, {nombre}, \\n elige una posición del listado {planetas}, por favor: \"))\n",
    "    place(pos)\n",
    "\n",
    "# Intentamos fallar indicando 10    \n",
    "usuario()"
   ]
  },
  {
   "cell_type": "code",
   "execution_count": 55,
   "metadata": {},
   "outputs": [
    {
     "name": "stdout",
     "output_type": "stream",
     "text": [
      "Hola, ¿Cómo te llamas? : Marco\n",
      "Mucho gusto conocerte, Marco, \n",
      " elige una posición del listado ['Mercurio', 'Venus', 'Tierra', 'Marte', 'Jupiter', 'Saturno', 'Urano', 'Neptuno'], por favor: 1\n",
      "El planeta seleccionado es: Mercurio\n"
     ]
    }
   ],
   "source": [
    "# Indicamos el valor 1\n",
    "usuario()"
   ]
  },
  {
   "cell_type": "code",
   "execution_count": 56,
   "metadata": {},
   "outputs": [
    {
     "name": "stdout",
     "output_type": "stream",
     "text": [
      "Hola, ¿Cómo te llamas? : Marco\n",
      "Mucho gusto conocerte, Marco, \n",
      " elige una posición del listado ['Mercurio', 'Venus', 'Tierra', 'Marte', 'Jupiter', 'Saturno', 'Urano', 'Neptuno'], por favor: -1\n",
      "Has indicado un valor no correcto!\n"
     ]
    }
   ],
   "source": [
    "# Indicamos un valor negativo\n",
    "usuario()"
   ]
  },
  {
   "cell_type": "markdown",
   "metadata": {},
   "source": [
    "### Ejercicio 2\n",
    "\n",
    "Dada una lista de planetas del sistema solar, determinad cuales de estos planetas tienen una masa superior a la de la Tierra. Por ejemplo, si la lista inicial es `['Venus', 'Marte', 'Saturno']`, el resultado que mostraríamos por pantalla sería `['Saturno']` ya que el planeta Saturno tiene una masa `95.2` veces superior a la Tierra.\n",
    "\n",
    "Consideraciones:\n",
    "\n",
    "- Debéis tener en cuenta que el nombre de los planetas que nos pasan por parámetro puede estar en minúsculas, mayúsculas o una combinación de ambas.\n",
    "- Podéis asumir que no habrá acentos en el nombre de los planetas.\n",
    "- Debéis determinar aquellos planetas que tiene una massa estrictamente superior a la de la Tierra.\n",
    "- No habrá planetas repetidos en la lista que nos pasan por parámetro.\n",
    "\n",
    "**(1.5 puntos)**"
   ]
  },
  {
   "cell_type": "code",
   "execution_count": 23,
   "metadata": {
    "attributes": {
     "classes": [
      "sourceCode"
     ],
     "id": ""
    }
   },
   "outputs": [
    {
     "ename": "SyntaxError",
     "evalue": "invalid syntax (<ipython-input-23-f649fa3bffb1>, line 26)",
     "output_type": "error",
     "traceback": [
      "\u001b[0;36m  File \u001b[0;32m\"<ipython-input-23-f649fa3bffb1>\"\u001b[0;36m, line \u001b[0;32m26\u001b[0m\n\u001b[0;31m    print planetas_mas_grandes_que_Tierra(['Venus', 'Mercurio', 'Marte'])\u001b[0m\n\u001b[0m                                        ^\u001b[0m\n\u001b[0;31mSyntaxError\u001b[0m\u001b[0;31m:\u001b[0m invalid syntax\n"
     ]
    }
   ],
   "source": [
    "# Masas medidas con respecto a la Tierra\n",
    "# Es decir, un valor de 14.6 representaria una masa 14.6 veces superior a la de la Tierra\n",
    "masas = {'Mercurio': 0.06, 'Venus': 0.82, 'Tierra': 1, 'Marte': 0.11, 'Jupiter': 317.8, \n",
    "          'Saturno': 95.2, 'Urano': 14.6, 'Neptuno': 17.2, 'Pluto': 0.0022}\n",
    "\n",
    "def planetas_mas_grandes_que_Tierra(planetas):\n",
    "    \"\"\"\n",
    "    Planetas con una masa superior a la de la Tierra\n",
    "    Declaramos dos variables nuevas, el listado planetas_masa_superior\n",
    "    y un nuevo dict new_dict que no servira para comparar\n",
    "    \"\"\"\n",
    "    planetas_masa_superior = []\n",
    "    new_dict = {}\n",
    "    # Ejecutaremos un ciclo for...loop de los elementos en nuestro listado\n",
    "    # Si ademas el indice se encuentra ademas en masas donde su valor > 1\n",
    "    # new_dict tendra su correspondiente key y value\n",
    "    for p in planetas:\n",
    "        if p in masas and masas.get(p) > 1:\n",
    "            new_dict[p] = masas.get(p)\n",
    "            \n",
    "    # El segundo ciclo es la evaluacion de los valores maximos de\n",
    "    # nuestro nuevo dict\n",
    "    # por cada key, valor de los items, evaluar´á el maximo y as´í\n",
    "    # imprime el resultado\n",
    "    for k,v in new_dict.items():\n",
    "        masa_max_valor = max(new_dict, key=new_dict.get)\n",
    "        planetas_masa_superior.append(masa_max_valor)\n",
    "        return planetas_masa_superior\n",
    "\n",
    "# Ejemplos de uso de la función anterior\n",
    "print planetas_mas_grandes_que_Tierra(['Venus', 'Mercurio', 'Marte'])\n",
    "print planetas_mas_grandes_que_Tierra(['Jupiter', 'Saturno', 'Pluto'])\n",
    "print planetas_mas_grandes_que_Tierra(['urano', 'tierra', 'neptuno', 'marte', 'Venus'])\n",
    "print planetas_mas_grandes_que_Tierra(['Tierra', 'MeRcUrIo', 'PLUTO', 'SATURNO'])\n",
    "\n",
    "# Podéis añadir más ejemplos si lo consideráis oportuno"
   ]
  },
  {
   "cell_type": "markdown",
   "metadata": {},
   "source": [
    "### Ejercicio 3\n",
    "\n",
    "Completad las siguientes funciones y documentad el código si lo consideráis oportuno. Finalmente, escribid al menos un ejemplo de uso para cada función.\n",
    "\n",
    "**(1.5 puntos)**"
   ]
  },
  {
   "cell_type": "code",
   "execution_count": null,
   "metadata": {
    "attributes": {
     "classes": [
      "sourceCode"
     ],
     "id": ""
    }
   },
   "outputs": [],
   "source": [
    "# Completad las funciones matemáticas siguientes\n",
    "import math\n",
    "\n",
    "\"\"\"Función que calcula la altura en un movimiento de caída libre\n",
    "\n",
    "Suponemos que dejamos caer un objeto des de un edificio de altura desconocida.\n",
    "El parámetro duracion_caida nos indica el tiempo (en segundos) que tarda el objeto en llegar a \n",
    "la tierra. La función debería calcular la altura del edificio des del cual se ha \n",
    "lanzado el objeto.\n",
    "\n",
    "Podéis encontrar más información sobre el movimiento de caída libre en el siguiente \n",
    "enlace: https://www.fisicalab.com/apartado/caida-libre#contenidos.\n",
    "\"\"\"\n",
    "\n",
    "def calcular_altura_caida_libre(duracion_caida):\n",
    "    # Completar\n",
    "    return 0.\n",
    "\n",
    "\n",
    "\"\"\"Función que calcula las coordenadas cartesianas de un punto representado en coordenadas polares\n",
    "\n",
    "Dado un punto representado por sus coordenadas polares (radio y angulo), la función debería calcular \n",
    "las correspondientes coordenadas cartesianas y devolver una tupla con su valor.\n",
    "\n",
    "Podéis encontrar más información sobre el sistema de coordenadas polares y su conversión al sistema \n",
    "cartesiano en el siguiente enlace: https://es.wikipedia.org/wiki/Coordenadas_polares.\n",
    "\"\"\"\n",
    "\n",
    "def calcular_coordenadas_cartesianas(radio, angulo_en_grados):\n",
    "    # Completar\n",
    "    return 0., 0.\n",
    "\n",
    "# Escribid aquí al menos un ejemplo de uso utilizando las funciones anteriores. Por ejemplo:\n",
    "# print \"El objeto se ha dejado caer des de una altura de %f metros\" % calcular_altura_caida_libre(10)"
   ]
  },
  {
   "cell_type": "markdown",
   "metadata": {},
   "source": [
    "### Ejercicio 4\n",
    "\n",
    "Escribid una función que dado un número entero positivo, `N`, genere un fichero con el nombre `output.txt` que contendrá `N` líneas, donde cada línea deberá mostrar una número consecutivo de letras `A`.\n",
    "\n",
    "Por ejemplo, si `N = 4`, el fichero generado deberá contener el siguiente contenido:\n",
    "\n",
    "```\n",
    "A\n",
    "AA\n",
    "AAA\n",
    "AAAA\n",
    "```\n",
    "\n",
    "**(1.5 puntos)**"
   ]
  },
  {
   "cell_type": "code",
   "execution_count": 41,
   "metadata": {
    "attributes": {
     "classes": [
      "sourceCode"
     ],
     "id": ""
    }
   },
   "outputs": [
    {
     "name": "stdout",
     "output_type": "stream",
     "text": [
      "Por favor diga un numero: 50\n",
      "A\n",
      "AA\n",
      "AAA\n",
      "AAAA\n",
      "AAAAA\n",
      "AAAAAA\n",
      "AAAAAAA\n",
      "AAAAAAAA\n",
      "AAAAAAAAA\n",
      "AAAAAAAAAA\n",
      "AAAAAAAAAAA\n",
      "AAAAAAAAAAAA\n",
      "AAAAAAAAAAAAA\n",
      "AAAAAAAAAAAAAA\n",
      "AAAAAAAAAAAAAAA\n",
      "AAAAAAAAAAAAAAAA\n",
      "AAAAAAAAAAAAAAAAA\n",
      "AAAAAAAAAAAAAAAAAA\n",
      "AAAAAAAAAAAAAAAAAAA\n",
      "AAAAAAAAAAAAAAAAAAAA\n",
      "AAAAAAAAAAAAAAAAAAAAA\n",
      "AAAAAAAAAAAAAAAAAAAAAA\n",
      "AAAAAAAAAAAAAAAAAAAAAAA\n",
      "AAAAAAAAAAAAAAAAAAAAAAAA\n",
      "AAAAAAAAAAAAAAAAAAAAAAAAA\n",
      "AAAAAAAAAAAAAAAAAAAAAAAAAA\n",
      "AAAAAAAAAAAAAAAAAAAAAAAAAAA\n",
      "AAAAAAAAAAAAAAAAAAAAAAAAAAAA\n",
      "AAAAAAAAAAAAAAAAAAAAAAAAAAAAA\n",
      "AAAAAAAAAAAAAAAAAAAAAAAAAAAAAA\n",
      "AAAAAAAAAAAAAAAAAAAAAAAAAAAAAAA\n",
      "AAAAAAAAAAAAAAAAAAAAAAAAAAAAAAAA\n",
      "AAAAAAAAAAAAAAAAAAAAAAAAAAAAAAAAA\n",
      "AAAAAAAAAAAAAAAAAAAAAAAAAAAAAAAAAA\n",
      "AAAAAAAAAAAAAAAAAAAAAAAAAAAAAAAAAAA\n",
      "AAAAAAAAAAAAAAAAAAAAAAAAAAAAAAAAAAAA\n",
      "AAAAAAAAAAAAAAAAAAAAAAAAAAAAAAAAAAAAA\n",
      "AAAAAAAAAAAAAAAAAAAAAAAAAAAAAAAAAAAAAA\n",
      "AAAAAAAAAAAAAAAAAAAAAAAAAAAAAAAAAAAAAAA\n",
      "AAAAAAAAAAAAAAAAAAAAAAAAAAAAAAAAAAAAAAAA\n",
      "AAAAAAAAAAAAAAAAAAAAAAAAAAAAAAAAAAAAAAAAA\n",
      "AAAAAAAAAAAAAAAAAAAAAAAAAAAAAAAAAAAAAAAAAA\n",
      "AAAAAAAAAAAAAAAAAAAAAAAAAAAAAAAAAAAAAAAAAAA\n",
      "AAAAAAAAAAAAAAAAAAAAAAAAAAAAAAAAAAAAAAAAAAAA\n",
      "AAAAAAAAAAAAAAAAAAAAAAAAAAAAAAAAAAAAAAAAAAAAA\n",
      "AAAAAAAAAAAAAAAAAAAAAAAAAAAAAAAAAAAAAAAAAAAAAA\n",
      "AAAAAAAAAAAAAAAAAAAAAAAAAAAAAAAAAAAAAAAAAAAAAAA\n",
      "AAAAAAAAAAAAAAAAAAAAAAAAAAAAAAAAAAAAAAAAAAAAAAAA\n",
      "AAAAAAAAAAAAAAAAAAAAAAAAAAAAAAAAAAAAAAAAAAAAAAAAA\n",
      "AAAAAAAAAAAAAAAAAAAAAAAAAAAAAAAAAAAAAAAAAAAAAAAAAA\n",
      "El resultado son 50 lineas\n"
     ]
    }
   ],
   "source": [
    "'''\n",
    "1. Declaro la función output con dos argumentos heredados (n,f)\n",
    "2. Sucesivamente la función archivo para poder crear y abrir el fichero output.txt\n",
    "3. Realizo una llamada input indicando un valor entero n\n",
    "4. Se generará un listado con rango n del valor anterior \n",
    "5. Al llamar la función archivo() ejecutará además una segunda llamada a output(n,f) con los dos argumentos que\n",
    "pasaremos a la función de evaluación.\n",
    "6. Realizo un try...except en caso de valores diferentes a n (si no es entero, si no es positivo y no es una stringa)\n",
    "7. He limitado a máximo 100 n elementos para evitar un fuera de limite de memoria (he intentado con 1000000 y funciona)\n",
    "8. se declara un contador que es igual a n\n",
    "9. se declara la stringa s = \"A\"\n",
    "10. Hasta que el contador no sea igual a n, por cada objeto i en nuestro listado l, hará dos print\n",
    "11. el primer print en nuestro fichero multiplicando s=\"A\" por el índice + 1\n",
    "12. el contador va decresciendo hasta ponerse en cero\n",
    "13. Acabado el contador imprimer un validador de cuantas lienas ha impreso, se hace por dos veces, en pantalla\n",
    "y en nuestro archivo\n",
    "14. Se cierra el file si nuestro IF es TRUE, en caso de FALSE, me indicará que no es posible ejecutar por valor \n",
    "mayor de 100\n",
    "15. Hay otro else principal al validador de numeros n, en caso de FALSE, me imprime otra alerta\n",
    "16. Hay dos except en esta función: en caso de ValueError y NameError\n",
    "17. Si todo ha ido bien, se ejecuta en una segunda linea, el read() de nuestro output.txt\n",
    "'''\n",
    "\n",
    "\n",
    "def output(n,f):\n",
    "    try:\n",
    "        if type(n) == int and n > 0 or type(n) is not string:\n",
    "            if n <= 100:\n",
    "                count = n\n",
    "                s = \"A\"\n",
    "                while count == n:\n",
    "                    for i in l:\n",
    "                        print(s*(i+1),file=f)\n",
    "                        print(s*(i+1))\n",
    "                        count -= 1\n",
    "                    print(\"El resultado son {} lineas\".format(n),file=f)\n",
    "                    print(\"El resultado son {} lineas\".format(n))\n",
    "                    f.close()\n",
    "            else:\n",
    "                print(\"No es posible ejecutar con valores mayor a 100, memoria corta...\")\n",
    "        else:\n",
    "            print(\"No es posible ejecutar con valores negativos o cero!\")\n",
    "    except ValueError:\n",
    "        print(\"Error en valor de n\")\n",
    "    except NameError:\n",
    "        print(\"Error en valor de n\")\n",
    "\n",
    "\n",
    "# el archivo de salida en modalidad escritura se llamará output.txt que será nuestro fichero dentro de su función\n",
    "def archivo():\n",
    "    f = open(\"output.txt\", \"w+\")\n",
    "    # pasamos dos argumentos con la función output(), el numero insertado y del archivo\n",
    "    output(n,f)\n",
    "        \n",
    "# n será nuestra variable del tipo entero con valor keyboard entrada\n",
    "n = int(input(\"Por favor diga un numero: \"))\n",
    "\n",
    "# generará un listado de n elementos\n",
    "l = list(range(n))\n",
    "\n",
    "archivo()"
   ]
  },
  {
   "cell_type": "code",
   "execution_count": 42,
   "metadata": {},
   "outputs": [
    {
     "name": "stdout",
     "output_type": "stream",
     "text": [
      "A\n",
      "\n",
      "AA\n",
      "\n",
      "AAA\n",
      "\n",
      "AAAA\n",
      "\n",
      "AAAAA\n",
      "\n",
      "AAAAAA\n",
      "\n",
      "AAAAAAA\n",
      "\n",
      "AAAAAAAA\n",
      "\n",
      "AAAAAAAAA\n",
      "\n",
      "AAAAAAAAAA\n",
      "\n",
      "AAAAAAAAAAA\n",
      "\n",
      "AAAAAAAAAAAA\n",
      "\n",
      "AAAAAAAAAAAAA\n",
      "\n",
      "AAAAAAAAAAAAAA\n",
      "\n",
      "AAAAAAAAAAAAAAA\n",
      "\n",
      "AAAAAAAAAAAAAAAA\n",
      "\n",
      "AAAAAAAAAAAAAAAAA\n",
      "\n",
      "AAAAAAAAAAAAAAAAAA\n",
      "\n",
      "AAAAAAAAAAAAAAAAAAA\n",
      "\n",
      "AAAAAAAAAAAAAAAAAAAA\n",
      "\n",
      "AAAAAAAAAAAAAAAAAAAAA\n",
      "\n",
      "AAAAAAAAAAAAAAAAAAAAAA\n",
      "\n",
      "AAAAAAAAAAAAAAAAAAAAAAA\n",
      "\n",
      "AAAAAAAAAAAAAAAAAAAAAAAA\n",
      "\n",
      "AAAAAAAAAAAAAAAAAAAAAAAAA\n",
      "\n",
      "AAAAAAAAAAAAAAAAAAAAAAAAAA\n",
      "\n",
      "AAAAAAAAAAAAAAAAAAAAAAAAAAA\n",
      "\n",
      "AAAAAAAAAAAAAAAAAAAAAAAAAAAA\n",
      "\n",
      "AAAAAAAAAAAAAAAAAAAAAAAAAAAAA\n",
      "\n",
      "AAAAAAAAAAAAAAAAAAAAAAAAAAAAAA\n",
      "\n",
      "AAAAAAAAAAAAAAAAAAAAAAAAAAAAAAA\n",
      "\n",
      "AAAAAAAAAAAAAAAAAAAAAAAAAAAAAAAA\n",
      "\n",
      "AAAAAAAAAAAAAAAAAAAAAAAAAAAAAAAAA\n",
      "\n",
      "AAAAAAAAAAAAAAAAAAAAAAAAAAAAAAAAAA\n",
      "\n",
      "AAAAAAAAAAAAAAAAAAAAAAAAAAAAAAAAAAA\n",
      "\n",
      "AAAAAAAAAAAAAAAAAAAAAAAAAAAAAAAAAAAA\n",
      "\n",
      "AAAAAAAAAAAAAAAAAAAAAAAAAAAAAAAAAAAAA\n",
      "\n",
      "AAAAAAAAAAAAAAAAAAAAAAAAAAAAAAAAAAAAAA\n",
      "\n",
      "AAAAAAAAAAAAAAAAAAAAAAAAAAAAAAAAAAAAAAA\n",
      "\n",
      "AAAAAAAAAAAAAAAAAAAAAAAAAAAAAAAAAAAAAAAA\n",
      "\n",
      "AAAAAAAAAAAAAAAAAAAAAAAAAAAAAAAAAAAAAAAAA\n",
      "\n",
      "AAAAAAAAAAAAAAAAAAAAAAAAAAAAAAAAAAAAAAAAAA\n",
      "\n",
      "AAAAAAAAAAAAAAAAAAAAAAAAAAAAAAAAAAAAAAAAAAA\n",
      "\n",
      "AAAAAAAAAAAAAAAAAAAAAAAAAAAAAAAAAAAAAAAAAAAA\n",
      "\n",
      "AAAAAAAAAAAAAAAAAAAAAAAAAAAAAAAAAAAAAAAAAAAAA\n",
      "\n",
      "AAAAAAAAAAAAAAAAAAAAAAAAAAAAAAAAAAAAAAAAAAAAAA\n",
      "\n",
      "AAAAAAAAAAAAAAAAAAAAAAAAAAAAAAAAAAAAAAAAAAAAAAA\n",
      "\n",
      "AAAAAAAAAAAAAAAAAAAAAAAAAAAAAAAAAAAAAAAAAAAAAAAA\n",
      "\n",
      "AAAAAAAAAAAAAAAAAAAAAAAAAAAAAAAAAAAAAAAAAAAAAAAAA\n",
      "\n",
      "AAAAAAAAAAAAAAAAAAAAAAAAAAAAAAAAAAAAAAAAAAAAAAAAAA\n",
      "\n",
      "El resultado son 50 lineas\n",
      "\n"
     ]
    },
    {
     "data": {
      "text/plain": [
       "<function print>"
      ]
     },
     "execution_count": 42,
     "metadata": {},
     "output_type": "execute_result"
    }
   ],
   "source": [
    "# Comprobaremos si efectivamente el texto anterior ha sido escrito de manera correcta\n",
    "f = open('output.txt')\n",
    "lines = f.readlines()\n",
    "for line in lines:\n",
    "    print(line),\n",
    "f.close()\n",
    "print"
   ]
  },
  {
   "cell_type": "markdown",
   "metadata": {},
   "source": [
    "### Ejercicio 5 \n",
    "\n",
    "Dada una cadena de caracteres, `s`, de longitud `n` y un número entero positivo `k`, siendo `k` un divisor de `n`, podemos dividir la cadena `s` en `n / k` sub-cadenas de la misma longitud.\n",
    "\n",
    "Escribid una función que, dada una cadena `s` y un número entero `k`, devuelva las `n/k` sub-cadenas teniendo en cuenta las siguientes consideraciones:\n",
    "\n",
    "- El orden de los caracteres en las sub-cadenas debe ser el mismo que en la cadena original.\n",
    "- Todos los caracteres de las sub-cadenas deben aparecer una única vez. Es decir, si un caracter se repite dentro de una sub-cadena, sólo hemos de mostrar la primera ocurrencia.\n",
    "\n",
    "Por ejemplo, si tenemmos\n",
    "<code>\n",
    "s = AABCCAADA\n",
    "k = 3\n",
    "</code>\n",
    "\n",
    "el resultado a mostrar por pantalla sería:\n",
    "<code>\n",
    "AB\n",
    "CA\n",
    "AD\n",
    "</code>\n",
    "\n",
    "Tenemos que la longitud de la cadena es 9 y por lo tanto, podemos formar 3 sub-cadenas:\n",
    "\n",
    "`AAB -> AB` (el caracter A se repite dos veces)\n",
    "\n",
    "`CCA -> CA` (el caracter C se repite dos veces)\n",
    "\n",
    "`ADA -> AD` (el caracter A se repite dos veces)\n",
    "\n",
    "**(2 puntos)**"
   ]
  },
  {
   "cell_type": "code",
   "execution_count": null,
   "metadata": {},
   "outputs": [],
   "source": [
    "# Respuesta"
   ]
  },
  {
   "cell_type": "markdown",
   "metadata": {},
   "source": [
    "### Ejercicio 6 (Opcional)\n",
    "\n",
    "Al final de la Edad Media, en Francia, el diplomático francés Blaise de Vigenère desarrollo un algoritmo para cifrar mensajes que nadie fue capaz de romper durante aproximadamente 250 años. El algoritmo se conoce con el nombre de [cifrado de Vigenère](https://es.wikipedia.org/wiki/Cifrado_de_Vigen%C3%A8re).\n",
    "\n",
    "El cifrado de Vigenère consiste en añadir a cada una de las letras de un texto un desplazamiento a partir de una clave secreta para conseguir una nueva letra diferente de la original. Veamos un ejemplo:\n",
    "\n",
    "Si asignamos el número 1 a la primera letra del abecedario, A, 2 a la siguiente, B, etc., imaginad que tenemos el siguiente mensaje:\n",
    "<code>\n",
    "ABC\n",
    "123\n",
    "</code>\n",
    "\n",
    "y la siguiente clave secreta:\n",
    "<code>\n",
    "DEF\n",
    "456\n",
    "</code>\n",
    "\n",
    "A cada letra del mensaje original aplicamos un desplazamiento en función de la misma posición dentro de la clave secreta. Por lo tanto, el mensaje cifrado quedaría de la siguiente forma:\n",
    "<code>\n",
    "   E       G       I\n",
    "(1 + 4) (2 + 5) (3 + 6)\n",
    "</code>\n",
    "\n",
    "Escribid una función que, dado un mensaje y una clave secreta, calcule y devuelva el mensaje cifrado.\n",
    "\n",
    "*Consideraciones.*\n",
    "\n",
    "- Utilizad como alfabeto de entrada **el alfabeto inglés en mayúsculas**.\n",
    "- El valor por defecto de la clave secreta será **DATASCI**."
   ]
  },
  {
   "cell_type": "code",
   "execution_count": null,
   "metadata": {
    "attributes": {
     "classes": [
      "sourceCode"
     ],
     "id": ""
    }
   },
   "outputs": [],
   "source": [
    "'''\n",
    "Para comenzar necesitaremos dos elementos para generar el cifrado:\n",
    "- la clave (isalpha)\n",
    "- el texto\n",
    "\n",
    "for c in name:\n",
    "    print(c)\n",
    "\n",
    "La formula del cifrado sería la siguiente:\n",
    "ti = letra en la posición i de nuestro texto\n",
    "kj = letra en la posición j de nuestra clave\n",
    "ci = será la letra correspondiente para nuestro cifrado\n",
    "% 26: la parte remanente o modulo después de dividir entre 26\n",
    "\n",
    "\n",
    "ci = (ti + kj) % 26 (teniendo en consideracion el alfabeto ingles)\n",
    "\n",
    "Es importante para el cifrado para avanzar el uso de la función isalpha()\n",
    "Verificar en su defecto si está en mayuscula o minuscula: isupper() o islower()\n",
    "'''\n",
    "\n",
    "def cifrado_vigenere(mensaje, clave=\"DATASCI\"):\n",
    "    \"\"\"\n",
    "    Cifra el mensaje utilizando el cifrado de Vigenère\n",
    "    \"\"\"\n",
    "    mensaje_cifrado = \"\"\n",
    "\n",
    "    def encrypt(plaintext, key):\n",
    "    alpha = list(\"ABCDEFGHIJKLMNOPQRSTUVWXY\")\n",
    "    key_length = len(key)\n",
    "    key_as_int = [ord(i) for i in key]\n",
    "    plaintext_int = [ord(i) for i in plaintext]\n",
    "    ciphertext = ''\n",
    "    for i in range(len(plaintext_int)):\n",
    "        value = (plaintext_int[i] + key_as_int[i % key_length]) % 26\n",
    "        for value in enumerate(alpha[value-1]):\n",
    "            letra_cifrada = value[1]\n",
    "            ciphertext += letra_cifrada \n",
    "    return ciphertext\n",
    "    \n",
    "print encrypt(\"ATACAREMOS AL AMANECER\",\"DATASCI\")\n",
    "\n",
    "    return mensaje_cifrado\n",
    "\n",
    "# Aquí podéis añadir más ejemplos:\n",
    "print cifrado_vigenere(\"ATACAREMOS AL AMANECER\")"
   ]
  },
  {
   "cell_type": "markdown",
   "metadata": {},
   "source": [
    "---\n",
    "\n",
    "## Soluciones ejercicios para practicar"
   ]
  },
  {
   "cell_type": "markdown",
   "metadata": {},
   "source": [
    "### Ejercicio 1\n",
    "\n",
    "El siguiente ejercicio consiste en pasar un número en base 16 (hexadecimal, 0-9/A-F) a base 10 (decimal). Para hacerlo, debéis crear una **función** que dado un _string_ que representa un número en hexadecimal, por ejemplo, `AE3F`, devuelva el número \n",
    "natural correspondiente. En este caso, el resultado sería `44607`.\n",
    "\n",
    "**Respuesta**"
   ]
  },
  {
   "cell_type": "markdown",
   "metadata": {},
   "source": [
    "En Python disponemos de una función muy útil que nos permite pasar a un número decimal des de cualquier base (```int(x, base=y)```). Dado que el objetivo es jugar un poco con el lenguaje Python, vamos a usar dicha función sólo de forma parcial para calcular el número decimal correspondiente a cada carácter hexadecimal individualmente.\n",
    "\n",
    "La fórmula para convertir un número hexadecimal a un número decimal, tomando como ejemplo el número AE3F, es:\n",
    "\n",
    "```A * 16**3 + E * 16**2 + 3 * 16**1 + F * 16**0 = 10 * 16**3 + 14 * 16**2 + 3 * 16**1 + 15 * 16**0```"
   ]
  },
  {
   "cell_type": "code",
   "execution_count": null,
   "metadata": {},
   "outputs": [],
   "source": [
    "# Importamos el string '0123456789abcdefABCDEF' que nos puede ser muy útil para comprobar el formato \n",
    "from string import hexdigits\n",
    "\n",
    "def hex_to_dec(numero_hexadecimal):\n",
    "    # Primero, comprobamos que el número que se pasa por parámetro es hexadecimal\n",
    "    if all(c in hexdigits for c in numero_hexadecimal):\n",
    "        # Definimos la base para realizar las operaciones\n",
    "        base = 16\n",
    "        numero_decimal = 0\n",
    "        \n",
    "        # Invertimos el número hexadecimal para que nos sea más fácil trabajar con los índices\n",
    "        numero_hexadecimal = numero_hexadecimal[::-1]\n",
    "        \n",
    "        for i in range(len(numero_hexadecimal)):\n",
    "            # Para cada carácter hexadecimal aplicamos la formula c * base ** i,\n",
    "            # donde c es la representación decimal del carácter y \n",
    "            # sumamos el resultado al resultado obtenido en la iteración anterior\n",
    "            numero_decimal += int(numero_hexadecimal[i], 16) * base**i\n",
    "            \n",
    "        return numero_decimal\n",
    "    else:\n",
    "        print 'El número introducido no es hexadecimal'\n",
    "\n",
    "print hex_to_dec('AE3F')\n",
    "print hex_to_dec('FFF')\n",
    "print hex_to_dec('123')"
   ]
  },
  {
   "cell_type": "markdown",
   "metadata": {},
   "source": [
    "### Ejercicio 2\n",
    "\n",
    "Las excepciones son errores detectados en tiempo de ejecución. Pueden y deben ser manejadas por el programador para minimizar el riesgo de que un determinado programa falle de forma no controlada. Escribid, en lenguaje Python, cómo generar y capturar la siguiente excepción: **ZeroDivisionError**.\n",
    "\n",
    "**Respuesta**"
   ]
  },
  {
   "cell_type": "markdown",
   "metadata": {},
   "source": [
    "En Pyhon podemos utilizar el bloque try ... except para capturar excepciones. Primero se intentará ejecutar el código dentro del bloque try y si hay una excepción se buscará una instrucción except que capture dicha excepción. En caso de encontrarla se ejecutará el código dentro del bloque except."
   ]
  },
  {
   "cell_type": "code",
   "execution_count": null,
   "metadata": {},
   "outputs": [],
   "source": [
    "try:\n",
    "    print 5/0 # División por cero - genera ZeroDivisionError\n",
    "except ZeroDivisionError:\n",
    "    print \"¡Cuidado! División por cero.\""
   ]
  },
  {
   "cell_type": "markdown",
   "metadata": {},
   "source": [
    "### Ejercicio 3\n",
    "\n",
    "Completad el código necesario para calcular el número de vocales y de consonantes respectivamente de un texto.\n",
    "\n",
    "**Respuesta**"
   ]
  },
  {
   "cell_type": "code",
   "execution_count": null,
   "metadata": {},
   "outputs": [],
   "source": [
    "def contar_vocales_y_consonantes(texto):\n",
    "    # Cuenta las vocales contenidas en el string texto y también las consonantes.\n",
    "    num_vocales = 0\n",
    "    num_consonantes = 0\n",
    "    \n",
    "    # Definimos una lista con las vocales\n",
    "    vocales = ['a', 'e', 'i', 'o', 'u']\n",
    "    \n",
    "    for c in texto.lower(): # Podemos convertir el texto a minúsculas para simplificar los cálculos\n",
    "        if c in vocales:\n",
    "            num_vocales += 1\n",
    "        elif c > 'a' and c <= 'z':\n",
    "            num_consonantes += 1\n",
    "    \n",
    "    return num_vocales, num_consonantes\n",
    "\n",
    "texto = \"Orbiting Earth in the spaceship, I saw how beautiful our planet is. \\\n",
    "            People, let us preserve and increase this beauty, not destroy it!\"\n",
    "\n",
    "num_vocales, num_consonantes = contar_vocales_y_consonantes(texto)\n",
    "print \"El número de vocales es de %d\" % num_vocales\n",
    "print \"El número de consonantes es de %d\" % num_consonantes"
   ]
  },
  {
   "cell_type": "markdown",
   "metadata": {},
   "source": [
    "Si queremos considerar también las vocales acentuadas o caracteres especiales, podemos modificar el código anterior para tenerlo en cuenta:"
   ]
  },
  {
   "cell_type": "code",
   "execution_count": null,
   "metadata": {},
   "outputs": [],
   "source": [
    "def contar_vocales_y_consonantes(texto):\n",
    "    # Cuenta las vocales contenidas en el string texto y también las consonantes.\n",
    "    num_vocales = 0\n",
    "    num_consonantes = 0\n",
    "    \n",
    "    # Convertimos el texto a Unicode\n",
    "    # En este caso sabemos seguro que la codificación de caracteres es UTF-8,  \n",
    "    # pero si nuestro código se puediera ejecutar fuera del Notebook podríamos \n",
    "    # incluir la codificación como otro parámetro de la función\n",
    "    texto = texto.decode('utf-8')\n",
    "    \n",
    "    # Definimos una lista con las vocales en unicode\n",
    "    vocales = [u'a', u'e', u'i', u'o', u'u', u'à', u'á', u'è', u'é', u'í', u'ï', u'ò', u'ó', u'ú', u'ü']\n",
    "    \n",
    "    for c in texto.lower(): # Podemos convertir el texto a minúsculas para simplificar los cálculos\n",
    "        if c in vocales:\n",
    "            num_vocales += 1\n",
    "        elif c > 'a' and c <= 'z' or c == u'ç' or c == u'ñ':\n",
    "            num_consonantes += 1\n",
    "    \n",
    "    return num_vocales, num_consonantes\n",
    "\n",
    "texto = \"Orbiting Earth in the spaceship, I saw how beautiful our planet is. \\\n",
    "            People, let us preserve and increase this beauty, not destroy it!\"\n",
    "\n",
    "num_vocales, num_consonantes = contar_vocales_y_consonantes(texto)\n",
    "print \"El número de vocales es de %d\" % num_vocales\n",
    "print \"El número de consonantes es de %d\" % num_consonantes\n",
    "\n",
    "texto = \"áéióúY\"\n",
    "num_vocales, num_consonantes = contar_vocales_y_consonantes(texto)\n",
    "print \"El número de vocales es de %d\" % num_vocales\n",
    "print \"El número de consonantes es de %d\" % num_consonantes"
   ]
  }
 ],
 "metadata": {
  "kernelspec": {
   "display_name": "Python 3",
   "language": "python",
   "name": "python3"
  },
  "language_info": {
   "codemirror_mode": {
    "name": "ipython",
    "version": 3
   },
   "file_extension": ".py",
   "mimetype": "text/x-python",
   "name": "python",
   "nbconvert_exporter": "python",
   "pygments_lexer": "ipython3",
   "version": "3.6.8"
  }
 },
 "nbformat": 4,
 "nbformat_minor": 1
}
